{
 "cells": [
  {
   "cell_type": "code",
   "execution_count": 1,
   "metadata": {
    "ExecuteTime": {
     "end_time": "2018-05-16T08:45:07.371681Z",
     "start_time": "2018-05-16T08:45:07.208439Z"
    }
   },
   "outputs": [],
   "source": [
    "import matplotlib.pyplot as plt\n",
    "import pathlib\n",
    "import cv2"
   ]
  },
  {
   "cell_type": "code",
   "execution_count": 15,
   "metadata": {
    "ExecuteTime": {
     "end_time": "2018-05-16T09:00:30.052842Z",
     "start_time": "2018-05-16T09:00:22.449857Z"
    }
   },
   "outputs": [],
   "source": [
    "data_path = pathlib.Path(\"./cropped_data_100/\")\n",
    "abs_data_path = data_path.resolve()\n",
    "save_path = pathlib.Path(\".\") / \"rsize_data_64\"\n",
    "abs_save_path = save_path.resolve()\n",
    "if not abs_save_path.exists():\n",
    "    abs_save_path.mkdir()\n",
    "for path in data_path.glob(\"*/*.jpg\"):\n",
    "    img = cv2.imread(str(path))\n",
    "    r_img = cv2.resize(img, dsize=(64, 64), interpolation=cv2.INTER_AREA)\n",
    "    tmp = pathlib.Path(str(abs_save_path / path.parts[-2]))\n",
    "    if not tmp.exists():\n",
    "        tmp.mkdir()\n",
    "    cv2.imwrite(str(abs_save_path / \"/\".join(path.parts[-2:])), r_img)"
   ]
  },
  {
   "cell_type": "code",
   "execution_count": 16,
   "metadata": {
    "ExecuteTime": {
     "end_time": "2018-05-16T09:01:23.910163Z",
     "start_time": "2018-05-16T09:01:23.903737Z"
    }
   },
   "outputs": [
    {
     "data": {
      "text/plain": [
       "'/home/yohei/Documents/tlab/face_dcgan.chainer/rsize_data_64/Mary_Lou_Retton/Mary_Lou_Retton_0001.jpg'"
      ]
     },
     "execution_count": 16,
     "metadata": {},
     "output_type": "execute_result"
    }
   ],
   "source": [
    "str(abs_save_path / \"/\".join(path.parts[-2:]))"
   ]
  },
  {
   "cell_type": "code",
   "execution_count": null,
   "metadata": {},
   "outputs": [],
   "source": []
  }
 ],
 "metadata": {
  "kernelspec": {
   "display_name": "chainer",
   "language": "python",
   "name": "chainer"
  },
  "language_info": {
   "codemirror_mode": {
    "name": "ipython",
    "version": 3
   },
   "file_extension": ".py",
   "mimetype": "text/x-python",
   "name": "python",
   "nbconvert_exporter": "python",
   "pygments_lexer": "ipython3",
   "version": "3.6.5"
  },
  "latex_envs": {
   "LaTeX_envs_menu_present": true,
   "autoclose": false,
   "autocomplete": true,
   "bibliofile": "biblio.bib",
   "cite_by": "apalike",
   "current_citInitial": 1,
   "eqLabelWithNumbers": true,
   "eqNumInitial": 1,
   "hotkeys": {
    "equation": "Ctrl-E",
    "itemize": "Ctrl-I"
   },
   "labels_anchors": false,
   "latex_user_defs": false,
   "report_style_numbering": false,
   "user_envs_cfg": false
  },
  "toc": {
   "base_numbering": 1,
   "nav_menu": {},
   "number_sections": true,
   "sideBar": true,
   "skip_h1_title": false,
   "title_cell": "Table of Contents",
   "title_sidebar": "Contents",
   "toc_cell": false,
   "toc_position": {},
   "toc_section_display": true,
   "toc_window_display": false
  }
 },
 "nbformat": 4,
 "nbformat_minor": 2
}
